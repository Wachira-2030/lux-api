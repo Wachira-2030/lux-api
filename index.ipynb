{
 "cells": [
  {
   "attachments": {},
   "cell_type": "markdown",
   "metadata": {},
   "source": [
    "# Retrieving top 100 male users"
   ]
  },
  {
   "cell_type": "code",
   "execution_count": 12,
   "metadata": {},
   "outputs": [],
   "source": [
    "# import relevant libraries\n",
    "import requests\n"
   ]
  },
  {
   "cell_type": "code",
   "execution_count": 14,
   "metadata": {},
   "outputs": [],
   "source": [
    "#create an endpoint and parameters\n",
    "url = \"https://randomuser.me/api/\"\n",
    "parameters = {\n",
    "    \"results\":100,\n",
    "    \"gender\":\"male\"\n",
    "}"
   ]
  },
  {
   "cell_type": "code",
   "execution_count": 15,
   "metadata": {},
   "outputs": [],
   "source": [
    "#send a GET request\n",
    "response = requests.get(url,params=parameters)\n",
    "json_data = response.json()"
   ]
  },
  {
   "cell_type": "code",
   "execution_count": 18,
   "metadata": {},
   "outputs": [
    {
     "name": "stdout",
     "output_type": "stream",
     "text": [
      "1.LewisBurton\n",
      "2.YarchikGurik\n",
      "3.AngusMoore\n",
      "4.MalikAubert\n",
      "5.NurullahHuiskamp\n",
      "6.NeelHiremath\n",
      "7.OscarPedersen\n",
      "8.GeorgeJohnston\n",
      "9.سپهریاسمی\n",
      "10.EstébanLefebvre\n",
      "11.ShawnSims\n",
      "12.SalihKampmann\n",
      "13.GeorgeBailey\n",
      "14.GersãoCastro\n",
      "15.NixonLee\n",
      "16.Pierre-AlainOlivier\n",
      "17.TolignivBorshch\n",
      "18.EelisElo\n",
      "19.JacobWang\n",
      "20.پوریاصدر\n",
      "21.BillyRogers\n",
      "22.ماهانکوتی\n",
      "23.MihajloIvkov\n",
      "24.MaximilianBjørgo\n",
      "25.NicklasLarsen\n",
      "26.PhilipTaylor\n",
      "27.EthanMedina\n",
      "28.RadojeJović\n",
      "29.VittorioCarpentier\n",
      "30.GustavHansen\n",
      "31.DonaldNeal\n",
      "32.KellyRoss\n",
      "33.JonathanBlanco\n",
      "34.VelimirŠarić\n",
      "35.JuanMenchaca\n",
      "36.MeinradFernandez\n",
      "37.AymericDubois\n",
      "38.JonathanMatthews\n",
      "39.SohanArnaud\n",
      "40.NoahRasmussen\n",
      "41.AlbertAndersen\n",
      "42.IggyNieuwlaat\n",
      "43.LeonidBliznyuk\n",
      "44.BenjaminHansen\n",
      "45.FlennMcdonalid\n",
      "46.رضارضاییان\n",
      "47.RatnakarChiplunkar\n",
      "48.SantelmoViana\n",
      "49.MaanasRamesh\n",
      "50.SameshJain\n",
      "51.MadsJørgensen\n",
      "52.MargaridoPeixoto\n",
      "53.EtienneLam\n",
      "54.EsatÖzkara\n",
      "55.HectorSanchez\n",
      "56.SimonJensen\n",
      "57.PhilipGrewal\n",
      "58.EirikØye\n",
      "59.DobrolikGavrishko\n",
      "60.AvramMandić\n",
      "61.LucasMercier\n",
      "62.VolkanÇağıran\n",
      "63.FreddieWashington\n",
      "64.WenseslaoZúñiga\n",
      "65.JeremyRoy\n",
      "66.MikkelJohansen\n",
      "67.ValentinVela\n",
      "68.NathanSmith\n",
      "69.EverettSimmons\n",
      "70.NaëlFleury\n",
      "71.TejasAcharya\n",
      "72.YashDalvi\n",
      "73.HellmutScholze\n",
      "74.CoşkunBiçer\n",
      "75.LucaBreiland\n",
      "76.JamilSlots\n",
      "77.NicolasPark\n",
      "78.KenBurton\n",
      "79.CarterBouchard\n",
      "80.KorniloTihanovich\n",
      "81.VincentGrewal\n",
      "82.MargaridoCaldeira\n",
      "83.FernandoNeal\n",
      "84.JaydenWalker\n",
      "85.RyderJackson\n",
      "86.BrennanJohnston\n",
      "87.رهامحسینی\n",
      "88.TymonRosa\n",
      "89.MilosavNemanjić\n",
      "90.محمدكامياران\n",
      "91.JasperLi\n",
      "92.SudivoyRubani\n",
      "93.BilyanFilevich\n",
      "94.DaveHansen\n",
      "95.RicardoGarcia\n",
      "96.میلادموسوی\n",
      "97.AdemKarabulut\n",
      "98.BraydenWilliams\n",
      "99.ValentinoGamez\n",
      "100.TedCaldwell\n"
     ]
    }
   ],
   "source": [
    "#extracting user data from the JSON response\n",
    "users = json_data[\"results\"]\n",
    "\n",
    "#getting the first 100 users and print their names.\n",
    "for i in range(100):\n",
    "    user=users[i]\n",
    "    print(f\"{i+1}.{user['name']['first']}{user['name']['last']}\")"
   ]
  }
 ],
 "metadata": {
  "kernelspec": {
   "display_name": "learn-env",
   "language": "python",
   "name": "python3"
  },
  "language_info": {
   "codemirror_mode": {
    "name": "ipython",
    "version": 3
   },
   "file_extension": ".py",
   "mimetype": "text/x-python",
   "name": "python",
   "nbconvert_exporter": "python",
   "pygments_lexer": "ipython3",
   "version": "3.8.5"
  },
  "orig_nbformat": 4,
  "vscode": {
   "interpreter": {
    "hash": "7a3d059f376a9d0551670ac739dcc834dd342b8d7d90019c6bdbef463e084516"
   }
  }
 },
 "nbformat": 4,
 "nbformat_minor": 2
}
